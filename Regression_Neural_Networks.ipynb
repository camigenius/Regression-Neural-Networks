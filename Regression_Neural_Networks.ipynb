{
  "nbformat": 4,
  "nbformat_minor": 0,
  "metadata": {
    "colab": {
      "provenance": [],
      "toc_visible": true
    },
    "kernelspec": {
      "name": "python3",
      "display_name": "Python 3"
    },
    "language_info": {
      "name": "python"
    }
  },
  "cells": [
    {
      "cell_type": "code",
      "source": [
        "import pandas as pd\n",
        "import numpy as np\n",
        "from keras.datasets import boston_housing \n",
        "from keras import models, layers, optimizers\n",
        "import matplotlib.pyplot as plt"
      ],
      "metadata": {
        "id": "SsSXntFsT5dy"
      },
      "execution_count": 55,
      "outputs": []
    },
    {
      "cell_type": "code",
      "source": [
        "X_test = pd.read_csv('abalone_test.csv')"
      ],
      "metadata": {
        "id": "CoxN03FtZ_I5"
      },
      "execution_count": 57,
      "outputs": []
    },
    {
      "cell_type": "code",
      "source": [
        "X_train = pd.read_csv('abalone_train.csv')"
      ],
      "metadata": {
        "id": "EaG018bKbOwP"
      },
      "execution_count": 58,
      "outputs": []
    },
    {
      "cell_type": "code",
      "source": [
        "X_test.head()"
      ],
      "metadata": {
        "id": "EDpVamZwbR60",
        "colab": {
          "base_uri": "https://localhost:8080/",
          "height": 206
        },
        "outputId": "a32ecdfb-a8b4-4d5f-fb9b-5ef8f7ce88d4"
      },
      "execution_count": 59,
      "outputs": [
        {
          "output_type": "execute_result",
          "data": {
            "text/plain": [
              "  sexo  longitud  diametro  altura  peso_entero  peso_sin_cascara  \\\n",
              "0    M     0.430     0.330   0.095        0.340            0.1315   \n",
              "1    F     0.455     0.365   0.110        0.385            0.1660   \n",
              "2    I     0.495     0.380   0.145        0.515            0.1750   \n",
              "3    F     0.480     0.380   0.145        0.590            0.2320   \n",
              "4    I     0.470     0.400   0.160        0.510            0.1615   \n",
              "\n",
              "   peso_visceras  peso_cascara  edad  modelo_2  modelo_3  \n",
              "0          0.085        0.1120    14     16.98     15.13  \n",
              "1          0.046        0.1345    13     20.73     16.38  \n",
              "2          0.098        0.2120    13     18.43     13.51  \n",
              "3          0.141        0.2300    12     17.72     14.71  \n",
              "4          0.073        0.1980    14     17.66     16.27  "
            ],
            "text/html": [
              "\n",
              "  <div id=\"df-9d0c9baf-887e-4cd6-b8a6-7722f4287e55\">\n",
              "    <div class=\"colab-df-container\">\n",
              "      <div>\n",
              "<style scoped>\n",
              "    .dataframe tbody tr th:only-of-type {\n",
              "        vertical-align: middle;\n",
              "    }\n",
              "\n",
              "    .dataframe tbody tr th {\n",
              "        vertical-align: top;\n",
              "    }\n",
              "\n",
              "    .dataframe thead th {\n",
              "        text-align: right;\n",
              "    }\n",
              "</style>\n",
              "<table border=\"1\" class=\"dataframe\">\n",
              "  <thead>\n",
              "    <tr style=\"text-align: right;\">\n",
              "      <th></th>\n",
              "      <th>sexo</th>\n",
              "      <th>longitud</th>\n",
              "      <th>diametro</th>\n",
              "      <th>altura</th>\n",
              "      <th>peso_entero</th>\n",
              "      <th>peso_sin_cascara</th>\n",
              "      <th>peso_visceras</th>\n",
              "      <th>peso_cascara</th>\n",
              "      <th>edad</th>\n",
              "      <th>modelo_2</th>\n",
              "      <th>modelo_3</th>\n",
              "    </tr>\n",
              "  </thead>\n",
              "  <tbody>\n",
              "    <tr>\n",
              "      <th>0</th>\n",
              "      <td>M</td>\n",
              "      <td>0.430</td>\n",
              "      <td>0.330</td>\n",
              "      <td>0.095</td>\n",
              "      <td>0.340</td>\n",
              "      <td>0.1315</td>\n",
              "      <td>0.085</td>\n",
              "      <td>0.1120</td>\n",
              "      <td>14</td>\n",
              "      <td>16.98</td>\n",
              "      <td>15.13</td>\n",
              "    </tr>\n",
              "    <tr>\n",
              "      <th>1</th>\n",
              "      <td>F</td>\n",
              "      <td>0.455</td>\n",
              "      <td>0.365</td>\n",
              "      <td>0.110</td>\n",
              "      <td>0.385</td>\n",
              "      <td>0.1660</td>\n",
              "      <td>0.046</td>\n",
              "      <td>0.1345</td>\n",
              "      <td>13</td>\n",
              "      <td>20.73</td>\n",
              "      <td>16.38</td>\n",
              "    </tr>\n",
              "    <tr>\n",
              "      <th>2</th>\n",
              "      <td>I</td>\n",
              "      <td>0.495</td>\n",
              "      <td>0.380</td>\n",
              "      <td>0.145</td>\n",
              "      <td>0.515</td>\n",
              "      <td>0.1750</td>\n",
              "      <td>0.098</td>\n",
              "      <td>0.2120</td>\n",
              "      <td>13</td>\n",
              "      <td>18.43</td>\n",
              "      <td>13.51</td>\n",
              "    </tr>\n",
              "    <tr>\n",
              "      <th>3</th>\n",
              "      <td>F</td>\n",
              "      <td>0.480</td>\n",
              "      <td>0.380</td>\n",
              "      <td>0.145</td>\n",
              "      <td>0.590</td>\n",
              "      <td>0.2320</td>\n",
              "      <td>0.141</td>\n",
              "      <td>0.2300</td>\n",
              "      <td>12</td>\n",
              "      <td>17.72</td>\n",
              "      <td>14.71</td>\n",
              "    </tr>\n",
              "    <tr>\n",
              "      <th>4</th>\n",
              "      <td>I</td>\n",
              "      <td>0.470</td>\n",
              "      <td>0.400</td>\n",
              "      <td>0.160</td>\n",
              "      <td>0.510</td>\n",
              "      <td>0.1615</td>\n",
              "      <td>0.073</td>\n",
              "      <td>0.1980</td>\n",
              "      <td>14</td>\n",
              "      <td>17.66</td>\n",
              "      <td>16.27</td>\n",
              "    </tr>\n",
              "  </tbody>\n",
              "</table>\n",
              "</div>\n",
              "      <button class=\"colab-df-convert\" onclick=\"convertToInteractive('df-9d0c9baf-887e-4cd6-b8a6-7722f4287e55')\"\n",
              "              title=\"Convert this dataframe to an interactive table.\"\n",
              "              style=\"display:none;\">\n",
              "        \n",
              "  <svg xmlns=\"http://www.w3.org/2000/svg\" height=\"24px\"viewBox=\"0 0 24 24\"\n",
              "       width=\"24px\">\n",
              "    <path d=\"M0 0h24v24H0V0z\" fill=\"none\"/>\n",
              "    <path d=\"M18.56 5.44l.94 2.06.94-2.06 2.06-.94-2.06-.94-.94-2.06-.94 2.06-2.06.94zm-11 1L8.5 8.5l.94-2.06 2.06-.94-2.06-.94L8.5 2.5l-.94 2.06-2.06.94zm10 10l.94 2.06.94-2.06 2.06-.94-2.06-.94-.94-2.06-.94 2.06-2.06.94z\"/><path d=\"M17.41 7.96l-1.37-1.37c-.4-.4-.92-.59-1.43-.59-.52 0-1.04.2-1.43.59L10.3 9.45l-7.72 7.72c-.78.78-.78 2.05 0 2.83L4 21.41c.39.39.9.59 1.41.59.51 0 1.02-.2 1.41-.59l7.78-7.78 2.81-2.81c.8-.78.8-2.07 0-2.86zM5.41 20L4 18.59l7.72-7.72 1.47 1.35L5.41 20z\"/>\n",
              "  </svg>\n",
              "      </button>\n",
              "      \n",
              "  <style>\n",
              "    .colab-df-container {\n",
              "      display:flex;\n",
              "      flex-wrap:wrap;\n",
              "      gap: 12px;\n",
              "    }\n",
              "\n",
              "    .colab-df-convert {\n",
              "      background-color: #E8F0FE;\n",
              "      border: none;\n",
              "      border-radius: 50%;\n",
              "      cursor: pointer;\n",
              "      display: none;\n",
              "      fill: #1967D2;\n",
              "      height: 32px;\n",
              "      padding: 0 0 0 0;\n",
              "      width: 32px;\n",
              "    }\n",
              "\n",
              "    .colab-df-convert:hover {\n",
              "      background-color: #E2EBFA;\n",
              "      box-shadow: 0px 1px 2px rgba(60, 64, 67, 0.3), 0px 1px 3px 1px rgba(60, 64, 67, 0.15);\n",
              "      fill: #174EA6;\n",
              "    }\n",
              "\n",
              "    [theme=dark] .colab-df-convert {\n",
              "      background-color: #3B4455;\n",
              "      fill: #D2E3FC;\n",
              "    }\n",
              "\n",
              "    [theme=dark] .colab-df-convert:hover {\n",
              "      background-color: #434B5C;\n",
              "      box-shadow: 0px 1px 3px 1px rgba(0, 0, 0, 0.15);\n",
              "      filter: drop-shadow(0px 1px 2px rgba(0, 0, 0, 0.3));\n",
              "      fill: #FFFFFF;\n",
              "    }\n",
              "  </style>\n",
              "\n",
              "      <script>\n",
              "        const buttonEl =\n",
              "          document.querySelector('#df-9d0c9baf-887e-4cd6-b8a6-7722f4287e55 button.colab-df-convert');\n",
              "        buttonEl.style.display =\n",
              "          google.colab.kernel.accessAllowed ? 'block' : 'none';\n",
              "\n",
              "        async function convertToInteractive(key) {\n",
              "          const element = document.querySelector('#df-9d0c9baf-887e-4cd6-b8a6-7722f4287e55');\n",
              "          const dataTable =\n",
              "            await google.colab.kernel.invokeFunction('convertToInteractive',\n",
              "                                                     [key], {});\n",
              "          if (!dataTable) return;\n",
              "\n",
              "          const docLinkHtml = 'Like what you see? Visit the ' +\n",
              "            '<a target=\"_blank\" href=https://colab.research.google.com/notebooks/data_table.ipynb>data table notebook</a>'\n",
              "            + ' to learn more about interactive tables.';\n",
              "          element.innerHTML = '';\n",
              "          dataTable['output_type'] = 'display_data';\n",
              "          await google.colab.output.renderOutput(dataTable, element);\n",
              "          const docLink = document.createElement('div');\n",
              "          docLink.innerHTML = docLinkHtml;\n",
              "          element.appendChild(docLink);\n",
              "        }\n",
              "      </script>\n",
              "    </div>\n",
              "  </div>\n",
              "  "
            ]
          },
          "metadata": {},
          "execution_count": 59
        }
      ]
    },
    {
      "cell_type": "code",
      "source": [
        "X_test.shape"
      ],
      "metadata": {
        "id": "i6ptSGjabV5e",
        "colab": {
          "base_uri": "https://localhost:8080/"
        },
        "outputId": "002ebacc-0375-4fa9-ef90-9040688a93d4"
      },
      "execution_count": 60,
      "outputs": [
        {
          "output_type": "execute_result",
          "data": {
            "text/plain": [
              "(835, 11)"
            ]
          },
          "metadata": {},
          "execution_count": 60
        }
      ]
    },
    {
      "cell_type": "code",
      "source": [
        "X_train.head()"
      ],
      "metadata": {
        "id": "myvvQW5lbcJj",
        "colab": {
          "base_uri": "https://localhost:8080/",
          "height": 206
        },
        "outputId": "ff907b7a-e053-4b09-97b6-2361e4756090"
      },
      "execution_count": 61,
      "outputs": [
        {
          "output_type": "execute_result",
          "data": {
            "text/plain": [
              "  sexo  longitud  diametro  altura  peso_entero  peso_sin_cascara  \\\n",
              "0    M     0.620     0.490   0.155       1.1000            0.5050   \n",
              "1    I     0.475     0.375   0.110       0.4560            0.1820   \n",
              "2    M     0.600     0.475   0.175       1.1100            0.5105   \n",
              "3    I     0.340     0.255   0.075       0.1800            0.0745   \n",
              "4    F     0.670     0.505   0.205       1.3645            0.6075   \n",
              "\n",
              "   peso_visceras  peso_cascara  edad  \n",
              "0         0.2475        0.3100     9  \n",
              "1         0.0990        0.1600     9  \n",
              "2         0.2560        0.2850     9  \n",
              "3         0.0400        0.0525     6  \n",
              "4         0.3025        0.3530     9  "
            ],
            "text/html": [
              "\n",
              "  <div id=\"df-93e59e1f-1af0-40a9-9323-e172fcba7237\">\n",
              "    <div class=\"colab-df-container\">\n",
              "      <div>\n",
              "<style scoped>\n",
              "    .dataframe tbody tr th:only-of-type {\n",
              "        vertical-align: middle;\n",
              "    }\n",
              "\n",
              "    .dataframe tbody tr th {\n",
              "        vertical-align: top;\n",
              "    }\n",
              "\n",
              "    .dataframe thead th {\n",
              "        text-align: right;\n",
              "    }\n",
              "</style>\n",
              "<table border=\"1\" class=\"dataframe\">\n",
              "  <thead>\n",
              "    <tr style=\"text-align: right;\">\n",
              "      <th></th>\n",
              "      <th>sexo</th>\n",
              "      <th>longitud</th>\n",
              "      <th>diametro</th>\n",
              "      <th>altura</th>\n",
              "      <th>peso_entero</th>\n",
              "      <th>peso_sin_cascara</th>\n",
              "      <th>peso_visceras</th>\n",
              "      <th>peso_cascara</th>\n",
              "      <th>edad</th>\n",
              "    </tr>\n",
              "  </thead>\n",
              "  <tbody>\n",
              "    <tr>\n",
              "      <th>0</th>\n",
              "      <td>M</td>\n",
              "      <td>0.620</td>\n",
              "      <td>0.490</td>\n",
              "      <td>0.155</td>\n",
              "      <td>1.1000</td>\n",
              "      <td>0.5050</td>\n",
              "      <td>0.2475</td>\n",
              "      <td>0.3100</td>\n",
              "      <td>9</td>\n",
              "    </tr>\n",
              "    <tr>\n",
              "      <th>1</th>\n",
              "      <td>I</td>\n",
              "      <td>0.475</td>\n",
              "      <td>0.375</td>\n",
              "      <td>0.110</td>\n",
              "      <td>0.4560</td>\n",
              "      <td>0.1820</td>\n",
              "      <td>0.0990</td>\n",
              "      <td>0.1600</td>\n",
              "      <td>9</td>\n",
              "    </tr>\n",
              "    <tr>\n",
              "      <th>2</th>\n",
              "      <td>M</td>\n",
              "      <td>0.600</td>\n",
              "      <td>0.475</td>\n",
              "      <td>0.175</td>\n",
              "      <td>1.1100</td>\n",
              "      <td>0.5105</td>\n",
              "      <td>0.2560</td>\n",
              "      <td>0.2850</td>\n",
              "      <td>9</td>\n",
              "    </tr>\n",
              "    <tr>\n",
              "      <th>3</th>\n",
              "      <td>I</td>\n",
              "      <td>0.340</td>\n",
              "      <td>0.255</td>\n",
              "      <td>0.075</td>\n",
              "      <td>0.1800</td>\n",
              "      <td>0.0745</td>\n",
              "      <td>0.0400</td>\n",
              "      <td>0.0525</td>\n",
              "      <td>6</td>\n",
              "    </tr>\n",
              "    <tr>\n",
              "      <th>4</th>\n",
              "      <td>F</td>\n",
              "      <td>0.670</td>\n",
              "      <td>0.505</td>\n",
              "      <td>0.205</td>\n",
              "      <td>1.3645</td>\n",
              "      <td>0.6075</td>\n",
              "      <td>0.3025</td>\n",
              "      <td>0.3530</td>\n",
              "      <td>9</td>\n",
              "    </tr>\n",
              "  </tbody>\n",
              "</table>\n",
              "</div>\n",
              "      <button class=\"colab-df-convert\" onclick=\"convertToInteractive('df-93e59e1f-1af0-40a9-9323-e172fcba7237')\"\n",
              "              title=\"Convert this dataframe to an interactive table.\"\n",
              "              style=\"display:none;\">\n",
              "        \n",
              "  <svg xmlns=\"http://www.w3.org/2000/svg\" height=\"24px\"viewBox=\"0 0 24 24\"\n",
              "       width=\"24px\">\n",
              "    <path d=\"M0 0h24v24H0V0z\" fill=\"none\"/>\n",
              "    <path d=\"M18.56 5.44l.94 2.06.94-2.06 2.06-.94-2.06-.94-.94-2.06-.94 2.06-2.06.94zm-11 1L8.5 8.5l.94-2.06 2.06-.94-2.06-.94L8.5 2.5l-.94 2.06-2.06.94zm10 10l.94 2.06.94-2.06 2.06-.94-2.06-.94-.94-2.06-.94 2.06-2.06.94z\"/><path d=\"M17.41 7.96l-1.37-1.37c-.4-.4-.92-.59-1.43-.59-.52 0-1.04.2-1.43.59L10.3 9.45l-7.72 7.72c-.78.78-.78 2.05 0 2.83L4 21.41c.39.39.9.59 1.41.59.51 0 1.02-.2 1.41-.59l7.78-7.78 2.81-2.81c.8-.78.8-2.07 0-2.86zM5.41 20L4 18.59l7.72-7.72 1.47 1.35L5.41 20z\"/>\n",
              "  </svg>\n",
              "      </button>\n",
              "      \n",
              "  <style>\n",
              "    .colab-df-container {\n",
              "      display:flex;\n",
              "      flex-wrap:wrap;\n",
              "      gap: 12px;\n",
              "    }\n",
              "\n",
              "    .colab-df-convert {\n",
              "      background-color: #E8F0FE;\n",
              "      border: none;\n",
              "      border-radius: 50%;\n",
              "      cursor: pointer;\n",
              "      display: none;\n",
              "      fill: #1967D2;\n",
              "      height: 32px;\n",
              "      padding: 0 0 0 0;\n",
              "      width: 32px;\n",
              "    }\n",
              "\n",
              "    .colab-df-convert:hover {\n",
              "      background-color: #E2EBFA;\n",
              "      box-shadow: 0px 1px 2px rgba(60, 64, 67, 0.3), 0px 1px 3px 1px rgba(60, 64, 67, 0.15);\n",
              "      fill: #174EA6;\n",
              "    }\n",
              "\n",
              "    [theme=dark] .colab-df-convert {\n",
              "      background-color: #3B4455;\n",
              "      fill: #D2E3FC;\n",
              "    }\n",
              "\n",
              "    [theme=dark] .colab-df-convert:hover {\n",
              "      background-color: #434B5C;\n",
              "      box-shadow: 0px 1px 3px 1px rgba(0, 0, 0, 0.15);\n",
              "      filter: drop-shadow(0px 1px 2px rgba(0, 0, 0, 0.3));\n",
              "      fill: #FFFFFF;\n",
              "    }\n",
              "  </style>\n",
              "\n",
              "      <script>\n",
              "        const buttonEl =\n",
              "          document.querySelector('#df-93e59e1f-1af0-40a9-9323-e172fcba7237 button.colab-df-convert');\n",
              "        buttonEl.style.display =\n",
              "          google.colab.kernel.accessAllowed ? 'block' : 'none';\n",
              "\n",
              "        async function convertToInteractive(key) {\n",
              "          const element = document.querySelector('#df-93e59e1f-1af0-40a9-9323-e172fcba7237');\n",
              "          const dataTable =\n",
              "            await google.colab.kernel.invokeFunction('convertToInteractive',\n",
              "                                                     [key], {});\n",
              "          if (!dataTable) return;\n",
              "\n",
              "          const docLinkHtml = 'Like what you see? Visit the ' +\n",
              "            '<a target=\"_blank\" href=https://colab.research.google.com/notebooks/data_table.ipynb>data table notebook</a>'\n",
              "            + ' to learn more about interactive tables.';\n",
              "          element.innerHTML = '';\n",
              "          dataTable['output_type'] = 'display_data';\n",
              "          await google.colab.output.renderOutput(dataTable, element);\n",
              "          const docLink = document.createElement('div');\n",
              "          docLink.innerHTML = docLinkHtml;\n",
              "          element.appendChild(docLink);\n",
              "        }\n",
              "      </script>\n",
              "    </div>\n",
              "  </div>\n",
              "  "
            ]
          },
          "metadata": {},
          "execution_count": 61
        }
      ]
    },
    {
      "cell_type": "code",
      "source": [
        "X_train.shape"
      ],
      "metadata": {
        "id": "QoYX0Gkrbf5E",
        "colab": {
          "base_uri": "https://localhost:8080/"
        },
        "outputId": "7bb1b784-96a8-4054-a717-6b0bb4950e3c"
      },
      "execution_count": 62,
      "outputs": [
        {
          "output_type": "execute_result",
          "data": {
            "text/plain": [
              "(3342, 9)"
            ]
          },
          "metadata": {},
          "execution_count": 62
        }
      ]
    },
    {
      "cell_type": "code",
      "source": [
        "X_train[['sexo_F', 'sexo_I', 'sexo_M']] = pd.get_dummies(X_train['sexo'])\n"
      ],
      "metadata": {
        "id": "Ct10iGcBbkcm"
      },
      "execution_count": 63,
      "outputs": []
    },
    {
      "cell_type": "code",
      "source": [
        "X_test[['sexo_F', 'sexo_I', 'sexo_M']] = pd.get_dummies(X_test['sexo'])"
      ],
      "metadata": {
        "id": "7PGkVEeChKB_"
      },
      "execution_count": 64,
      "outputs": []
    },
    {
      "cell_type": "code",
      "source": [
        "X_train.head()"
      ],
      "metadata": {
        "id": "rnfBg6BVhl1t",
        "colab": {
          "base_uri": "https://localhost:8080/",
          "height": 206
        },
        "outputId": "a2c1f7d2-7cba-40be-c0b8-324083ae6b86"
      },
      "execution_count": 65,
      "outputs": [
        {
          "output_type": "execute_result",
          "data": {
            "text/plain": [
              "  sexo  longitud  diametro  altura  peso_entero  peso_sin_cascara  \\\n",
              "0    M     0.620     0.490   0.155       1.1000            0.5050   \n",
              "1    I     0.475     0.375   0.110       0.4560            0.1820   \n",
              "2    M     0.600     0.475   0.175       1.1100            0.5105   \n",
              "3    I     0.340     0.255   0.075       0.1800            0.0745   \n",
              "4    F     0.670     0.505   0.205       1.3645            0.6075   \n",
              "\n",
              "   peso_visceras  peso_cascara  edad  sexo_F  sexo_I  sexo_M  \n",
              "0         0.2475        0.3100     9       0       0       1  \n",
              "1         0.0990        0.1600     9       0       1       0  \n",
              "2         0.2560        0.2850     9       0       0       1  \n",
              "3         0.0400        0.0525     6       0       1       0  \n",
              "4         0.3025        0.3530     9       1       0       0  "
            ],
            "text/html": [
              "\n",
              "  <div id=\"df-c7904299-34f8-45c9-93c9-5a18e7928bc8\">\n",
              "    <div class=\"colab-df-container\">\n",
              "      <div>\n",
              "<style scoped>\n",
              "    .dataframe tbody tr th:only-of-type {\n",
              "        vertical-align: middle;\n",
              "    }\n",
              "\n",
              "    .dataframe tbody tr th {\n",
              "        vertical-align: top;\n",
              "    }\n",
              "\n",
              "    .dataframe thead th {\n",
              "        text-align: right;\n",
              "    }\n",
              "</style>\n",
              "<table border=\"1\" class=\"dataframe\">\n",
              "  <thead>\n",
              "    <tr style=\"text-align: right;\">\n",
              "      <th></th>\n",
              "      <th>sexo</th>\n",
              "      <th>longitud</th>\n",
              "      <th>diametro</th>\n",
              "      <th>altura</th>\n",
              "      <th>peso_entero</th>\n",
              "      <th>peso_sin_cascara</th>\n",
              "      <th>peso_visceras</th>\n",
              "      <th>peso_cascara</th>\n",
              "      <th>edad</th>\n",
              "      <th>sexo_F</th>\n",
              "      <th>sexo_I</th>\n",
              "      <th>sexo_M</th>\n",
              "    </tr>\n",
              "  </thead>\n",
              "  <tbody>\n",
              "    <tr>\n",
              "      <th>0</th>\n",
              "      <td>M</td>\n",
              "      <td>0.620</td>\n",
              "      <td>0.490</td>\n",
              "      <td>0.155</td>\n",
              "      <td>1.1000</td>\n",
              "      <td>0.5050</td>\n",
              "      <td>0.2475</td>\n",
              "      <td>0.3100</td>\n",
              "      <td>9</td>\n",
              "      <td>0</td>\n",
              "      <td>0</td>\n",
              "      <td>1</td>\n",
              "    </tr>\n",
              "    <tr>\n",
              "      <th>1</th>\n",
              "      <td>I</td>\n",
              "      <td>0.475</td>\n",
              "      <td>0.375</td>\n",
              "      <td>0.110</td>\n",
              "      <td>0.4560</td>\n",
              "      <td>0.1820</td>\n",
              "      <td>0.0990</td>\n",
              "      <td>0.1600</td>\n",
              "      <td>9</td>\n",
              "      <td>0</td>\n",
              "      <td>1</td>\n",
              "      <td>0</td>\n",
              "    </tr>\n",
              "    <tr>\n",
              "      <th>2</th>\n",
              "      <td>M</td>\n",
              "      <td>0.600</td>\n",
              "      <td>0.475</td>\n",
              "      <td>0.175</td>\n",
              "      <td>1.1100</td>\n",
              "      <td>0.5105</td>\n",
              "      <td>0.2560</td>\n",
              "      <td>0.2850</td>\n",
              "      <td>9</td>\n",
              "      <td>0</td>\n",
              "      <td>0</td>\n",
              "      <td>1</td>\n",
              "    </tr>\n",
              "    <tr>\n",
              "      <th>3</th>\n",
              "      <td>I</td>\n",
              "      <td>0.340</td>\n",
              "      <td>0.255</td>\n",
              "      <td>0.075</td>\n",
              "      <td>0.1800</td>\n",
              "      <td>0.0745</td>\n",
              "      <td>0.0400</td>\n",
              "      <td>0.0525</td>\n",
              "      <td>6</td>\n",
              "      <td>0</td>\n",
              "      <td>1</td>\n",
              "      <td>0</td>\n",
              "    </tr>\n",
              "    <tr>\n",
              "      <th>4</th>\n",
              "      <td>F</td>\n",
              "      <td>0.670</td>\n",
              "      <td>0.505</td>\n",
              "      <td>0.205</td>\n",
              "      <td>1.3645</td>\n",
              "      <td>0.6075</td>\n",
              "      <td>0.3025</td>\n",
              "      <td>0.3530</td>\n",
              "      <td>9</td>\n",
              "      <td>1</td>\n",
              "      <td>0</td>\n",
              "      <td>0</td>\n",
              "    </tr>\n",
              "  </tbody>\n",
              "</table>\n",
              "</div>\n",
              "      <button class=\"colab-df-convert\" onclick=\"convertToInteractive('df-c7904299-34f8-45c9-93c9-5a18e7928bc8')\"\n",
              "              title=\"Convert this dataframe to an interactive table.\"\n",
              "              style=\"display:none;\">\n",
              "        \n",
              "  <svg xmlns=\"http://www.w3.org/2000/svg\" height=\"24px\"viewBox=\"0 0 24 24\"\n",
              "       width=\"24px\">\n",
              "    <path d=\"M0 0h24v24H0V0z\" fill=\"none\"/>\n",
              "    <path d=\"M18.56 5.44l.94 2.06.94-2.06 2.06-.94-2.06-.94-.94-2.06-.94 2.06-2.06.94zm-11 1L8.5 8.5l.94-2.06 2.06-.94-2.06-.94L8.5 2.5l-.94 2.06-2.06.94zm10 10l.94 2.06.94-2.06 2.06-.94-2.06-.94-.94-2.06-.94 2.06-2.06.94z\"/><path d=\"M17.41 7.96l-1.37-1.37c-.4-.4-.92-.59-1.43-.59-.52 0-1.04.2-1.43.59L10.3 9.45l-7.72 7.72c-.78.78-.78 2.05 0 2.83L4 21.41c.39.39.9.59 1.41.59.51 0 1.02-.2 1.41-.59l7.78-7.78 2.81-2.81c.8-.78.8-2.07 0-2.86zM5.41 20L4 18.59l7.72-7.72 1.47 1.35L5.41 20z\"/>\n",
              "  </svg>\n",
              "      </button>\n",
              "      \n",
              "  <style>\n",
              "    .colab-df-container {\n",
              "      display:flex;\n",
              "      flex-wrap:wrap;\n",
              "      gap: 12px;\n",
              "    }\n",
              "\n",
              "    .colab-df-convert {\n",
              "      background-color: #E8F0FE;\n",
              "      border: none;\n",
              "      border-radius: 50%;\n",
              "      cursor: pointer;\n",
              "      display: none;\n",
              "      fill: #1967D2;\n",
              "      height: 32px;\n",
              "      padding: 0 0 0 0;\n",
              "      width: 32px;\n",
              "    }\n",
              "\n",
              "    .colab-df-convert:hover {\n",
              "      background-color: #E2EBFA;\n",
              "      box-shadow: 0px 1px 2px rgba(60, 64, 67, 0.3), 0px 1px 3px 1px rgba(60, 64, 67, 0.15);\n",
              "      fill: #174EA6;\n",
              "    }\n",
              "\n",
              "    [theme=dark] .colab-df-convert {\n",
              "      background-color: #3B4455;\n",
              "      fill: #D2E3FC;\n",
              "    }\n",
              "\n",
              "    [theme=dark] .colab-df-convert:hover {\n",
              "      background-color: #434B5C;\n",
              "      box-shadow: 0px 1px 3px 1px rgba(0, 0, 0, 0.15);\n",
              "      filter: drop-shadow(0px 1px 2px rgba(0, 0, 0, 0.3));\n",
              "      fill: #FFFFFF;\n",
              "    }\n",
              "  </style>\n",
              "\n",
              "      <script>\n",
              "        const buttonEl =\n",
              "          document.querySelector('#df-c7904299-34f8-45c9-93c9-5a18e7928bc8 button.colab-df-convert');\n",
              "        buttonEl.style.display =\n",
              "          google.colab.kernel.accessAllowed ? 'block' : 'none';\n",
              "\n",
              "        async function convertToInteractive(key) {\n",
              "          const element = document.querySelector('#df-c7904299-34f8-45c9-93c9-5a18e7928bc8');\n",
              "          const dataTable =\n",
              "            await google.colab.kernel.invokeFunction('convertToInteractive',\n",
              "                                                     [key], {});\n",
              "          if (!dataTable) return;\n",
              "\n",
              "          const docLinkHtml = 'Like what you see? Visit the ' +\n",
              "            '<a target=\"_blank\" href=https://colab.research.google.com/notebooks/data_table.ipynb>data table notebook</a>'\n",
              "            + ' to learn more about interactive tables.';\n",
              "          element.innerHTML = '';\n",
              "          dataTable['output_type'] = 'display_data';\n",
              "          await google.colab.output.renderOutput(dataTable, element);\n",
              "          const docLink = document.createElement('div');\n",
              "          docLink.innerHTML = docLinkHtml;\n",
              "          element.appendChild(docLink);\n",
              "        }\n",
              "      </script>\n",
              "    </div>\n",
              "  </div>\n",
              "  "
            ]
          },
          "metadata": {},
          "execution_count": 65
        }
      ]
    },
    {
      "cell_type": "code",
      "source": [
        "X_test.head()"
      ],
      "metadata": {
        "id": "0OD3jLLihpwU",
        "colab": {
          "base_uri": "https://localhost:8080/",
          "height": 250
        },
        "outputId": "e210299b-0131-4521-edb7-a9ffe60cdd2b"
      },
      "execution_count": 66,
      "outputs": [
        {
          "output_type": "execute_result",
          "data": {
            "text/plain": [
              "  sexo  longitud  diametro  altura  peso_entero  peso_sin_cascara  \\\n",
              "0    M     0.430     0.330   0.095        0.340            0.1315   \n",
              "1    F     0.455     0.365   0.110        0.385            0.1660   \n",
              "2    I     0.495     0.380   0.145        0.515            0.1750   \n",
              "3    F     0.480     0.380   0.145        0.590            0.2320   \n",
              "4    I     0.470     0.400   0.160        0.510            0.1615   \n",
              "\n",
              "   peso_visceras  peso_cascara  edad  modelo_2  modelo_3  sexo_F  sexo_I  \\\n",
              "0          0.085        0.1120    14     16.98     15.13       0       0   \n",
              "1          0.046        0.1345    13     20.73     16.38       1       0   \n",
              "2          0.098        0.2120    13     18.43     13.51       0       1   \n",
              "3          0.141        0.2300    12     17.72     14.71       1       0   \n",
              "4          0.073        0.1980    14     17.66     16.27       0       1   \n",
              "\n",
              "   sexo_M  \n",
              "0       1  \n",
              "1       0  \n",
              "2       0  \n",
              "3       0  \n",
              "4       0  "
            ],
            "text/html": [
              "\n",
              "  <div id=\"df-874a3138-6f5d-4692-a295-2892a93277cb\">\n",
              "    <div class=\"colab-df-container\">\n",
              "      <div>\n",
              "<style scoped>\n",
              "    .dataframe tbody tr th:only-of-type {\n",
              "        vertical-align: middle;\n",
              "    }\n",
              "\n",
              "    .dataframe tbody tr th {\n",
              "        vertical-align: top;\n",
              "    }\n",
              "\n",
              "    .dataframe thead th {\n",
              "        text-align: right;\n",
              "    }\n",
              "</style>\n",
              "<table border=\"1\" class=\"dataframe\">\n",
              "  <thead>\n",
              "    <tr style=\"text-align: right;\">\n",
              "      <th></th>\n",
              "      <th>sexo</th>\n",
              "      <th>longitud</th>\n",
              "      <th>diametro</th>\n",
              "      <th>altura</th>\n",
              "      <th>peso_entero</th>\n",
              "      <th>peso_sin_cascara</th>\n",
              "      <th>peso_visceras</th>\n",
              "      <th>peso_cascara</th>\n",
              "      <th>edad</th>\n",
              "      <th>modelo_2</th>\n",
              "      <th>modelo_3</th>\n",
              "      <th>sexo_F</th>\n",
              "      <th>sexo_I</th>\n",
              "      <th>sexo_M</th>\n",
              "    </tr>\n",
              "  </thead>\n",
              "  <tbody>\n",
              "    <tr>\n",
              "      <th>0</th>\n",
              "      <td>M</td>\n",
              "      <td>0.430</td>\n",
              "      <td>0.330</td>\n",
              "      <td>0.095</td>\n",
              "      <td>0.340</td>\n",
              "      <td>0.1315</td>\n",
              "      <td>0.085</td>\n",
              "      <td>0.1120</td>\n",
              "      <td>14</td>\n",
              "      <td>16.98</td>\n",
              "      <td>15.13</td>\n",
              "      <td>0</td>\n",
              "      <td>0</td>\n",
              "      <td>1</td>\n",
              "    </tr>\n",
              "    <tr>\n",
              "      <th>1</th>\n",
              "      <td>F</td>\n",
              "      <td>0.455</td>\n",
              "      <td>0.365</td>\n",
              "      <td>0.110</td>\n",
              "      <td>0.385</td>\n",
              "      <td>0.1660</td>\n",
              "      <td>0.046</td>\n",
              "      <td>0.1345</td>\n",
              "      <td>13</td>\n",
              "      <td>20.73</td>\n",
              "      <td>16.38</td>\n",
              "      <td>1</td>\n",
              "      <td>0</td>\n",
              "      <td>0</td>\n",
              "    </tr>\n",
              "    <tr>\n",
              "      <th>2</th>\n",
              "      <td>I</td>\n",
              "      <td>0.495</td>\n",
              "      <td>0.380</td>\n",
              "      <td>0.145</td>\n",
              "      <td>0.515</td>\n",
              "      <td>0.1750</td>\n",
              "      <td>0.098</td>\n",
              "      <td>0.2120</td>\n",
              "      <td>13</td>\n",
              "      <td>18.43</td>\n",
              "      <td>13.51</td>\n",
              "      <td>0</td>\n",
              "      <td>1</td>\n",
              "      <td>0</td>\n",
              "    </tr>\n",
              "    <tr>\n",
              "      <th>3</th>\n",
              "      <td>F</td>\n",
              "      <td>0.480</td>\n",
              "      <td>0.380</td>\n",
              "      <td>0.145</td>\n",
              "      <td>0.590</td>\n",
              "      <td>0.2320</td>\n",
              "      <td>0.141</td>\n",
              "      <td>0.2300</td>\n",
              "      <td>12</td>\n",
              "      <td>17.72</td>\n",
              "      <td>14.71</td>\n",
              "      <td>1</td>\n",
              "      <td>0</td>\n",
              "      <td>0</td>\n",
              "    </tr>\n",
              "    <tr>\n",
              "      <th>4</th>\n",
              "      <td>I</td>\n",
              "      <td>0.470</td>\n",
              "      <td>0.400</td>\n",
              "      <td>0.160</td>\n",
              "      <td>0.510</td>\n",
              "      <td>0.1615</td>\n",
              "      <td>0.073</td>\n",
              "      <td>0.1980</td>\n",
              "      <td>14</td>\n",
              "      <td>17.66</td>\n",
              "      <td>16.27</td>\n",
              "      <td>0</td>\n",
              "      <td>1</td>\n",
              "      <td>0</td>\n",
              "    </tr>\n",
              "  </tbody>\n",
              "</table>\n",
              "</div>\n",
              "      <button class=\"colab-df-convert\" onclick=\"convertToInteractive('df-874a3138-6f5d-4692-a295-2892a93277cb')\"\n",
              "              title=\"Convert this dataframe to an interactive table.\"\n",
              "              style=\"display:none;\">\n",
              "        \n",
              "  <svg xmlns=\"http://www.w3.org/2000/svg\" height=\"24px\"viewBox=\"0 0 24 24\"\n",
              "       width=\"24px\">\n",
              "    <path d=\"M0 0h24v24H0V0z\" fill=\"none\"/>\n",
              "    <path d=\"M18.56 5.44l.94 2.06.94-2.06 2.06-.94-2.06-.94-.94-2.06-.94 2.06-2.06.94zm-11 1L8.5 8.5l.94-2.06 2.06-.94-2.06-.94L8.5 2.5l-.94 2.06-2.06.94zm10 10l.94 2.06.94-2.06 2.06-.94-2.06-.94-.94-2.06-.94 2.06-2.06.94z\"/><path d=\"M17.41 7.96l-1.37-1.37c-.4-.4-.92-.59-1.43-.59-.52 0-1.04.2-1.43.59L10.3 9.45l-7.72 7.72c-.78.78-.78 2.05 0 2.83L4 21.41c.39.39.9.59 1.41.59.51 0 1.02-.2 1.41-.59l7.78-7.78 2.81-2.81c.8-.78.8-2.07 0-2.86zM5.41 20L4 18.59l7.72-7.72 1.47 1.35L5.41 20z\"/>\n",
              "  </svg>\n",
              "      </button>\n",
              "      \n",
              "  <style>\n",
              "    .colab-df-container {\n",
              "      display:flex;\n",
              "      flex-wrap:wrap;\n",
              "      gap: 12px;\n",
              "    }\n",
              "\n",
              "    .colab-df-convert {\n",
              "      background-color: #E8F0FE;\n",
              "      border: none;\n",
              "      border-radius: 50%;\n",
              "      cursor: pointer;\n",
              "      display: none;\n",
              "      fill: #1967D2;\n",
              "      height: 32px;\n",
              "      padding: 0 0 0 0;\n",
              "      width: 32px;\n",
              "    }\n",
              "\n",
              "    .colab-df-convert:hover {\n",
              "      background-color: #E2EBFA;\n",
              "      box-shadow: 0px 1px 2px rgba(60, 64, 67, 0.3), 0px 1px 3px 1px rgba(60, 64, 67, 0.15);\n",
              "      fill: #174EA6;\n",
              "    }\n",
              "\n",
              "    [theme=dark] .colab-df-convert {\n",
              "      background-color: #3B4455;\n",
              "      fill: #D2E3FC;\n",
              "    }\n",
              "\n",
              "    [theme=dark] .colab-df-convert:hover {\n",
              "      background-color: #434B5C;\n",
              "      box-shadow: 0px 1px 3px 1px rgba(0, 0, 0, 0.15);\n",
              "      filter: drop-shadow(0px 1px 2px rgba(0, 0, 0, 0.3));\n",
              "      fill: #FFFFFF;\n",
              "    }\n",
              "  </style>\n",
              "\n",
              "      <script>\n",
              "        const buttonEl =\n",
              "          document.querySelector('#df-874a3138-6f5d-4692-a295-2892a93277cb button.colab-df-convert');\n",
              "        buttonEl.style.display =\n",
              "          google.colab.kernel.accessAllowed ? 'block' : 'none';\n",
              "\n",
              "        async function convertToInteractive(key) {\n",
              "          const element = document.querySelector('#df-874a3138-6f5d-4692-a295-2892a93277cb');\n",
              "          const dataTable =\n",
              "            await google.colab.kernel.invokeFunction('convertToInteractive',\n",
              "                                                     [key], {});\n",
              "          if (!dataTable) return;\n",
              "\n",
              "          const docLinkHtml = 'Like what you see? Visit the ' +\n",
              "            '<a target=\"_blank\" href=https://colab.research.google.com/notebooks/data_table.ipynb>data table notebook</a>'\n",
              "            + ' to learn more about interactive tables.';\n",
              "          element.innerHTML = '';\n",
              "          dataTable['output_type'] = 'display_data';\n",
              "          await google.colab.output.renderOutput(dataTable, element);\n",
              "          const docLink = document.createElement('div');\n",
              "          docLink.innerHTML = docLinkHtml;\n",
              "          element.appendChild(docLink);\n",
              "        }\n",
              "      </script>\n",
              "    </div>\n",
              "  </div>\n",
              "  "
            ]
          },
          "metadata": {},
          "execution_count": 66
        }
      ]
    },
    {
      "cell_type": "code",
      "source": [
        "X_test= X_test.drop(columns=['modelo_2','modelo_3'],axis=0)"
      ],
      "metadata": {
        "id": "gUQS1NA4iAPx"
      },
      "execution_count": 67,
      "outputs": []
    },
    {
      "cell_type": "code",
      "source": [
        "X_test.columns"
      ],
      "metadata": {
        "id": "sYairWlEkrq0",
        "colab": {
          "base_uri": "https://localhost:8080/"
        },
        "outputId": "d92f61b3-6414-42c6-f2ce-aa880ac1f9e2"
      },
      "execution_count": 68,
      "outputs": [
        {
          "output_type": "execute_result",
          "data": {
            "text/plain": [
              "Index(['sexo', 'longitud', 'diametro', 'altura', 'peso_entero',\n",
              "       'peso_sin_cascara', 'peso_visceras', 'peso_cascara', 'edad', 'sexo_F',\n",
              "       'sexo_I', 'sexo_M'],\n",
              "      dtype='object')"
            ]
          },
          "metadata": {},
          "execution_count": 68
        }
      ]
    },
    {
      "cell_type": "code",
      "source": [
        "y_train = X_train['edad'].values\n",
        "X_train = X_train.drop(columns=['edad','sexo']).values\n",
        "\n",
        "y_test = X_test['edad'].values\n",
        "X_test = X_test.drop(columns=['edad','sexo']).values"
      ],
      "metadata": {
        "id": "OTCpHyruj_Hc"
      },
      "execution_count": 69,
      "outputs": []
    },
    {
      "cell_type": "code",
      "source": [
        "y_train.shape,X_train.shape"
      ],
      "metadata": {
        "id": "GRMZ2eIrmjgF",
        "colab": {
          "base_uri": "https://localhost:8080/"
        },
        "outputId": "32e9923d-c997-462a-a520-a6987e1272e0"
      },
      "execution_count": 70,
      "outputs": [
        {
          "output_type": "execute_result",
          "data": {
            "text/plain": [
              "((3342,), (3342, 10))"
            ]
          },
          "metadata": {},
          "execution_count": 70
        }
      ]
    },
    {
      "cell_type": "code",
      "source": [
        "y_test.shape , X_test.shape"
      ],
      "metadata": {
        "id": "HdpDFE-cnKPE",
        "colab": {
          "base_uri": "https://localhost:8080/"
        },
        "outputId": "690b6daa-b493-4b97-b65e-42958ba11be9"
      },
      "execution_count": 71,
      "outputs": [
        {
          "output_type": "execute_result",
          "data": {
            "text/plain": [
              "((835,), (835, 10))"
            ]
          },
          "metadata": {},
          "execution_count": 71
        }
      ]
    },
    {
      "cell_type": "code",
      "source": [
        "y_train"
      ],
      "metadata": {
        "id": "-J-Xwfacnb9_",
        "colab": {
          "base_uri": "https://localhost:8080/"
        },
        "outputId": "b5c10c40-d228-4b4e-bd83-527ff61318de"
      },
      "execution_count": 72,
      "outputs": [
        {
          "output_type": "execute_result",
          "data": {
            "text/plain": [
              "array([ 9,  9,  9, ...,  9, 14, 22])"
            ]
          },
          "metadata": {},
          "execution_count": 72
        }
      ]
    },
    {
      "cell_type": "code",
      "source": [
        "X_train"
      ],
      "metadata": {
        "id": "8bZBa22-nzIz",
        "colab": {
          "base_uri": "https://localhost:8080/"
        },
        "outputId": "d2519561-7131-4c21-bd13-f26acde63400"
      },
      "execution_count": 73,
      "outputs": [
        {
          "output_type": "execute_result",
          "data": {
            "text/plain": [
              "array([[0.62 , 0.49 , 0.155, ..., 0.   , 0.   , 1.   ],\n",
              "       [0.475, 0.375, 0.11 , ..., 0.   , 1.   , 0.   ],\n",
              "       [0.6  , 0.475, 0.175, ..., 0.   , 0.   , 1.   ],\n",
              "       ...,\n",
              "       [0.605, 0.47 , 0.165, ..., 1.   , 0.   , 0.   ],\n",
              "       [0.665, 0.535, 0.155, ..., 0.   , 0.   , 1.   ],\n",
              "       [0.545, 0.42 , 0.14 , ..., 0.   , 0.   , 1.   ]])"
            ]
          },
          "metadata": {},
          "execution_count": 73
        }
      ]
    },
    {
      "cell_type": "code",
      "source": [
        "model = models.Sequential()\n",
        "model.add(layers.Dense(64,activation='relu',input_shape=(10,)))\n",
        "model.add(layers.Dense(64,activation='relu'))\n",
        "model.add(layers.Dense(1))\n",
        "model.compile(optimizer='rmsprop', loss='mse',metrics=['mae'])\n"
      ],
      "metadata": {
        "id": "sQAQgpSn67Ea"
      },
      "execution_count": 74,
      "outputs": []
    },
    {
      "cell_type": "code",
      "source": [
        "history = model.fit(X_train,y_train,epochs = 30)"
      ],
      "metadata": {
        "colab": {
          "base_uri": "https://localhost:8080/"
        },
        "id": "oZv_mD0SWdEU",
        "outputId": "44a115ba-0734-48df-cd01-7067ef5afaec"
      },
      "execution_count": 77,
      "outputs": [
        {
          "output_type": "stream",
          "name": "stdout",
          "text": [
            "Epoch 1/30\n",
            "105/105 [==============================] - 0s 1ms/step - loss: 4.7400 - mae: 1.5666\n",
            "Epoch 2/30\n",
            "105/105 [==============================] - 0s 1ms/step - loss: 4.7652 - mae: 1.5663\n",
            "Epoch 3/30\n",
            "105/105 [==============================] - 0s 1ms/step - loss: 4.7579 - mae: 1.5616\n",
            "Epoch 4/30\n",
            "105/105 [==============================] - 0s 1ms/step - loss: 4.7684 - mae: 1.5656\n",
            "Epoch 5/30\n",
            "105/105 [==============================] - 0s 1ms/step - loss: 4.7199 - mae: 1.5569\n",
            "Epoch 6/30\n",
            "105/105 [==============================] - 0s 1ms/step - loss: 4.7498 - mae: 1.5613\n",
            "Epoch 7/30\n",
            "105/105 [==============================] - 0s 1ms/step - loss: 4.7448 - mae: 1.5618\n",
            "Epoch 8/30\n",
            "105/105 [==============================] - 0s 1ms/step - loss: 4.7067 - mae: 1.5586\n",
            "Epoch 9/30\n",
            "105/105 [==============================] - 0s 1ms/step - loss: 4.7470 - mae: 1.5643\n",
            "Epoch 10/30\n",
            "105/105 [==============================] - 0s 1ms/step - loss: 4.6785 - mae: 1.5521\n",
            "Epoch 11/30\n",
            "105/105 [==============================] - 0s 1ms/step - loss: 4.7301 - mae: 1.5622\n",
            "Epoch 12/30\n",
            "105/105 [==============================] - 0s 1ms/step - loss: 4.7071 - mae: 1.5489\n",
            "Epoch 13/30\n",
            "105/105 [==============================] - 0s 1ms/step - loss: 4.7355 - mae: 1.5612\n",
            "Epoch 14/30\n",
            "105/105 [==============================] - 0s 2ms/step - loss: 4.7250 - mae: 1.5546\n",
            "Epoch 15/30\n",
            "105/105 [==============================] - 0s 1ms/step - loss: 4.7152 - mae: 1.5499\n",
            "Epoch 16/30\n",
            "105/105 [==============================] - 0s 1ms/step - loss: 4.6954 - mae: 1.5583\n",
            "Epoch 17/30\n",
            "105/105 [==============================] - 0s 1ms/step - loss: 4.7057 - mae: 1.5508\n",
            "Epoch 18/30\n",
            "105/105 [==============================] - 0s 1ms/step - loss: 4.6685 - mae: 1.5488\n",
            "Epoch 19/30\n",
            "105/105 [==============================] - 0s 2ms/step - loss: 4.7155 - mae: 1.5529\n",
            "Epoch 20/30\n",
            "105/105 [==============================] - 0s 1ms/step - loss: 4.6892 - mae: 1.5457\n",
            "Epoch 21/30\n",
            "105/105 [==============================] - 0s 1ms/step - loss: 4.6724 - mae: 1.5401\n",
            "Epoch 22/30\n",
            "105/105 [==============================] - 0s 1ms/step - loss: 4.6432 - mae: 1.5447\n",
            "Epoch 23/30\n",
            "105/105 [==============================] - 0s 1ms/step - loss: 4.6790 - mae: 1.5462\n",
            "Epoch 24/30\n",
            "105/105 [==============================] - 0s 1ms/step - loss: 4.6798 - mae: 1.5459\n",
            "Epoch 25/30\n",
            "105/105 [==============================] - 0s 1ms/step - loss: 4.7009 - mae: 1.5531\n",
            "Epoch 26/30\n",
            "105/105 [==============================] - 0s 1ms/step - loss: 4.6781 - mae: 1.5509\n",
            "Epoch 27/30\n",
            "105/105 [==============================] - 0s 1ms/step - loss: 4.6952 - mae: 1.5499\n",
            "Epoch 28/30\n",
            "105/105 [==============================] - 0s 1ms/step - loss: 4.6847 - mae: 1.5441\n",
            "Epoch 29/30\n",
            "105/105 [==============================] - 0s 1ms/step - loss: 4.6582 - mae: 1.5509\n",
            "Epoch 30/30\n",
            "105/105 [==============================] - 0s 1ms/step - loss: 4.6659 - mae: 1.5484\n"
          ]
        }
      ]
    },
    {
      "cell_type": "code",
      "source": [
        "history_dict = history.history"
      ],
      "metadata": {
        "id": "i5US5BNnNUhQ"
      },
      "execution_count": 78,
      "outputs": []
    },
    {
      "cell_type": "code",
      "source": [
        "history_dict"
      ],
      "metadata": {
        "colab": {
          "base_uri": "https://localhost:8080/"
        },
        "id": "zcWhGZsxQYSR",
        "outputId": "595cb950-eacd-4a75-eb8e-3b00c8d8e3ab"
      },
      "execution_count": 79,
      "outputs": [
        {
          "output_type": "execute_result",
          "data": {
            "text/plain": [
              "{'loss': [4.739972114562988,\n",
              "  4.765169620513916,\n",
              "  4.757853031158447,\n",
              "  4.768434047698975,\n",
              "  4.719891548156738,\n",
              "  4.749773025512695,\n",
              "  4.7448272705078125,\n",
              "  4.706721782684326,\n",
              "  4.747025966644287,\n",
              "  4.6784796714782715,\n",
              "  4.730084419250488,\n",
              "  4.707076072692871,\n",
              "  4.73545503616333,\n",
              "  4.724950790405273,\n",
              "  4.715169429779053,\n",
              "  4.695408821105957,\n",
              "  4.7056756019592285,\n",
              "  4.668511867523193,\n",
              "  4.715515613555908,\n",
              "  4.6891703605651855,\n",
              "  4.672389030456543,\n",
              "  4.643216133117676,\n",
              "  4.678995609283447,\n",
              "  4.679811477661133,\n",
              "  4.700896739959717,\n",
              "  4.67806339263916,\n",
              "  4.695202827453613,\n",
              "  4.684671401977539,\n",
              "  4.658215522766113,\n",
              "  4.665911674499512],\n",
              " 'mae': [1.5665737390518188,\n",
              "  1.5663396120071411,\n",
              "  1.5616400241851807,\n",
              "  1.5655652284622192,\n",
              "  1.5568821430206299,\n",
              "  1.5613235235214233,\n",
              "  1.5617872476577759,\n",
              "  1.5586203336715698,\n",
              "  1.564274787902832,\n",
              "  1.5521422624588013,\n",
              "  1.5621813535690308,\n",
              "  1.5488580465316772,\n",
              "  1.5611827373504639,\n",
              "  1.554557204246521,\n",
              "  1.5498778820037842,\n",
              "  1.5583205223083496,\n",
              "  1.5508337020874023,\n",
              "  1.5488088130950928,\n",
              "  1.5528755187988281,\n",
              "  1.545657753944397,\n",
              "  1.5401450395584106,\n",
              "  1.5446983575820923,\n",
              "  1.546156883239746,\n",
              "  1.5458731651306152,\n",
              "  1.5531097650527954,\n",
              "  1.5509064197540283,\n",
              "  1.5498601198196411,\n",
              "  1.5440698862075806,\n",
              "  1.5509356260299683,\n",
              "  1.5483869314193726]}"
            ]
          },
          "metadata": {},
          "execution_count": 79
        }
      ]
    },
    {
      "cell_type": "code",
      "source": [
        "import matplotlib.pyplot as plt\n",
        "\n",
        "#history_dict = history.history\n",
        "loss_values = history_dict['loss']\n",
        "# val_loss_values = history_dict['val_loss']\n",
        "\n",
        "fig = plt.figure(figsize=(15,8))\n",
        "epoch = range(1,len(loss_values)+1)\n",
        "plt.plot(epoch,loss_values,'--',label = 'training')\n",
        "#plt.plot(epoch,val_loss_values,'--',label = 'validation')\n",
        "plt.legend()\n",
        "plt.show()"
      ],
      "metadata": {
        "colab": {
          "base_uri": "https://localhost:8080/",
          "height": 483
        },
        "id": "LQu3-moBSB-w",
        "outputId": "5b36af63-fd79-4946-c27a-9599385ab28b"
      },
      "execution_count": 89,
      "outputs": [
        {
          "output_type": "display_data",
          "data": {
            "text/plain": [
              "<Figure size 1080x576 with 1 Axes>"
            ],
            "image/png": "[encoded data removed]"
          },
          "metadata": {
            "needs_background": "light"
          }
        }
      ]
    },
    {
      "cell_type": "code",
      "source": [
        "predictions = model.predict(X_test)"
      ],
      "metadata": {
        "colab": {
          "base_uri": "https://localhost:8080/"
        },
        "id": "DSxsmkFY4v2b",
        "outputId": "4182c513-da8b-474a-fb5d-b79e980b6b61"
      },
      "execution_count": 86,
      "outputs": [
        {
          "output_type": "stream",
          "name": "stdout",
          "text": [
            "27/27 [==============================] - 0s 880us/step\n"
          ]
        }
      ]
    },
    {
      "cell_type": "code",
      "source": [
        "predictions[3]"
      ],
      "metadata": {
        "colab": {
          "base_uri": "https://localhost:8080/"
        },
        "id": "s-zR1NmM5bKg",
        "outputId": "c8aeec55-546d-45bc-c3a7-0c5b131d5910"
      },
      "execution_count": 87,
      "outputs": [
        {
          "output_type": "execute_result",
          "data": {
            "text/plain": [
              "array([11.957386], dtype=float32)"
            ]
          },
          "metadata": {},
          "execution_count": 87
        }
      ]
    },
    {
      "cell_type": "code",
      "source": [
        "y_test[2]"
      ],
      "metadata": {
        "colab": {
          "base_uri": "https://localhost:8080/"
        },
        "id": "4858SX1w5obY",
        "outputId": "8130f364-5196-4e9c-c088-ef8db9196218"
      },
      "execution_count": 88,
      "outputs": [
        {
          "output_type": "execute_result",
          "data": {
            "text/plain": [
              "13"
            ]
          },
          "metadata": {},
          "execution_count": 88
        }
      ]
    },
    {
      "cell_type": "code",
      "source": [
        "test_loss,test_mae = model.evaluate(X_test,y_test)"
      ],
      "metadata": {
        "colab": {
          "base_uri": "https://localhost:8080/"
        },
        "id": "DyUhrvlO6QUp",
        "outputId": "ee856a41-54a2-4dfb-f695-89e9cf657d6f"
      },
      "execution_count": 41,
      "outputs": [
        {
          "output_type": "stream",
          "name": "stdout",
          "text": [
            "27/27 [==============================] - 0s 1ms/step - loss: 3.4523 - mae: 1.3452\n"
          ]
        }
      ]
    },
    {
      "cell_type": "code",
      "source": [
        "print(test_loss,test_mae)"
      ],
      "metadata": {
        "colab": {
          "base_uri": "https://localhost:8080/"
        },
        "id": "RLvIETqv7K8e",
        "outputId": "7482d39f-3acb-4843-cac5-840885dc3d6f"
      },
      "execution_count": 42,
      "outputs": [
        {
          "output_type": "stream",
          "name": "stdout",
          "text": [
            "3.452256441116333 1.3452030420303345\n"
          ]
        }
      ]
    }
  ]
}